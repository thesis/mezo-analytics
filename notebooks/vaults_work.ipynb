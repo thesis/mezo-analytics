{
 "cells": [
  {
   "cell_type": "markdown",
   "metadata": {},
   "source": [
    "# Vaults - Setup"
   ]
  },
  {
   "cell_type": "code",
   "execution_count": 18,
   "metadata": {},
   "outputs": [],
   "source": [
    "import pandas as pd\n",
    "from dotenv import load_dotenv\n",
    "import os\n",
    "import requests\n",
    "from mezo.currency_utils import get_token_price, format_musd_currency_columns\n",
    "from mezo.datetime_utils import format_datetimes\n",
    "from mezo.data_utils import add_rolling_values, add_pct_change_columns, add_cumulative_columns\n",
    "from mezo.clients import BigQueryClient, SubgraphClient, Web3Client\n",
    "\n",
    "load_dotenv(dotenv_path='../.env', override=True)\n",
    "COINGECKO_KEY = os.getenv('COINGECKO_KEY')"
   ]
  },
  {
   "cell_type": "code",
   "execution_count": 19,
   "metadata": {},
   "outputs": [],
   "source": [
    "# Subgraph Setup\n",
    "\n",
    "AUGUST_VAULT_SUBGRAPH = \"https://api.goldsky.com/api/public/project_cm6ks2x8um4aj01uj8nwg1f6r/subgraphs/mezo-vaults-mezo/1.0.0/gn\"\n",
    "\n",
    "SUBGRAPH_HEADERS = {\n",
    "        \"Content-Type\": \"application/json\",\n",
    "    }\n",
    "\n",
    "GET_VAULT_TRANSFERS = \"\"\"\n",
    "query vaultTransfers($skip: Int!) {\n",
    "  transfers(\n",
    "    first: 1000\n",
    "    orderBy: timestamp_\n",
    "    orderDirection: desc\n",
    "    skip: $skip\n",
    ") {\n",
    "    timestamp_\n",
    "    from\n",
    "    to\n",
    "    value\n",
    "    transactionHash_\n",
    "    block_number\n",
    "  }\n",
    "}\n",
    "\"\"\""
   ]
  },
  {
   "cell_type": "code",
   "execution_count": 20,
   "metadata": {},
   "outputs": [],
   "source": [
    "# Instantiate subgraph\n",
    "\n",
    "vault = SubgraphClient(\n",
    "    url = AUGUST_VAULT_SUBGRAPH, \n",
    "    headers = SUBGRAPH_HEADERS\n",
    ")"
   ]
  },
  {
   "cell_type": "code",
   "execution_count": 21,
   "metadata": {},
   "outputs": [
    {
     "name": "stdout",
     "output_type": "stream",
     "text": [
      "Fetching transactions with skip=0...\n",
      "Fetching transactions with skip=1000...\n",
      "Fetching transactions with skip=2000...\n",
      "Fetching transactions with skip=3000...\n",
      "Fetching transactions with skip=4000...\n",
      "Fetching transactions with skip=5000...\n",
      "Fetching transactions with skip=6000...\n",
      "Fetching transactions with skip=7000...\n",
      "Fetching transactions with skip=8000...\n",
      "No more records found.\n"
     ]
    }
   ],
   "source": [
    "# Fetch subgraph data\n",
    "vaults =  vault.fetch_subgraph_data(GET_VAULT_TRANSFERS, 'transfers')"
   ]
  },
  {
   "cell_type": "code",
   "execution_count": 22,
   "metadata": {},
   "outputs": [
    {
     "data": {
      "text/html": [
       "<div>\n",
       "<style scoped>\n",
       "    .dataframe tbody tr th:only-of-type {\n",
       "        vertical-align: middle;\n",
       "    }\n",
       "\n",
       "    .dataframe tbody tr th {\n",
       "        vertical-align: top;\n",
       "    }\n",
       "\n",
       "    .dataframe thead th {\n",
       "        text-align: right;\n",
       "    }\n",
       "</style>\n",
       "<table border=\"1\" class=\"dataframe\">\n",
       "  <thead>\n",
       "    <tr style=\"text-align: right;\">\n",
       "      <th></th>\n",
       "      <th>timestamp_</th>\n",
       "      <th>from</th>\n",
       "      <th>to</th>\n",
       "      <th>value</th>\n",
       "      <th>transactionHash_</th>\n",
       "      <th>block_number</th>\n",
       "    </tr>\n",
       "  </thead>\n",
       "  <tbody>\n",
       "    <tr>\n",
       "      <th>0</th>\n",
       "      <td>1756298984</td>\n",
       "      <td>0x0000000000000000000000000000000000000000</td>\n",
       "      <td>0xe3884a72546f65944df71d7199c038270519511b</td>\n",
       "      <td>10000000000000000</td>\n",
       "      <td>0x4606b5c80e127598a3546c1a909df5022087f658347d...</td>\n",
       "      <td>2740482</td>\n",
       "    </tr>\n",
       "    <tr>\n",
       "      <th>1</th>\n",
       "      <td>1756298408</td>\n",
       "      <td>0xcd4c4ac79098310d63537ecf519d36412077200c</td>\n",
       "      <td>0x0000000000000000000000000000000000000000</td>\n",
       "      <td>1068275890279924972659</td>\n",
       "      <td>0x16b0221286022113b3bd28e6c9c80c45195adc8db29b...</td>\n",
       "      <td>2740322</td>\n",
       "    </tr>\n",
       "    <tr>\n",
       "      <th>2</th>\n",
       "      <td>1756298041</td>\n",
       "      <td>0x0000000000000000000000000000000000000000</td>\n",
       "      <td>0xb0e5453ed14b2e17e41d35e114f5c530bd604361</td>\n",
       "      <td>219000000000000000000</td>\n",
       "      <td>0x7dc48d37f8ce9f9819e1d9377df4630406b513293e7e...</td>\n",
       "      <td>2740220</td>\n",
       "    </tr>\n",
       "    <tr>\n",
       "      <th>3</th>\n",
       "      <td>1756295259</td>\n",
       "      <td>0x91ad95702fedc4b83843d3f3aaaa9f0ef68f71ff</td>\n",
       "      <td>0x0000000000000000000000000000000000000000</td>\n",
       "      <td>571550118709272009661</td>\n",
       "      <td>0x33ac0f0c54ea241a7669c2fe2614badc1f5fb4305c92...</td>\n",
       "      <td>2739446</td>\n",
       "    </tr>\n",
       "    <tr>\n",
       "      <th>4</th>\n",
       "      <td>1756295201</td>\n",
       "      <td>0xb2991c8dd07969d09856da81c6143d2d12c84e56</td>\n",
       "      <td>0x0000000000000000000000000000000000000000</td>\n",
       "      <td>11850354755871040981</td>\n",
       "      <td>0xb9d7a997bc8f5aae1d18f87ee9009ce63e4e61fccddf...</td>\n",
       "      <td>2739430</td>\n",
       "    </tr>\n",
       "    <tr>\n",
       "      <th>...</th>\n",
       "      <td>...</td>\n",
       "      <td>...</td>\n",
       "      <td>...</td>\n",
       "      <td>...</td>\n",
       "      <td>...</td>\n",
       "      <td>...</td>\n",
       "    </tr>\n",
       "    <tr>\n",
       "      <th>7798</th>\n",
       "      <td>1750924920</td>\n",
       "      <td>0x0000000000000000000000000000000000000000</td>\n",
       "      <td>0x6e80164ea60673d64d5d6228beb684a1274bb017</td>\n",
       "      <td>1000000000000000000</td>\n",
       "      <td>0xf94447d87f136b744db7d595d441d468fca44162c337...</td>\n",
       "      <td>1257108</td>\n",
       "    </tr>\n",
       "    <tr>\n",
       "      <th>7799</th>\n",
       "      <td>1750899066</td>\n",
       "      <td>0x0000000000000000000000000000000000000000</td>\n",
       "      <td>0x83db892a6688b966122be219fa873bf24d7db79f</td>\n",
       "      <td>5000000000000000000</td>\n",
       "      <td>0x6a633ddd97ece5fd9c72271c72745a20c75635f93932...</td>\n",
       "      <td>1250310</td>\n",
       "    </tr>\n",
       "    <tr>\n",
       "      <th>7800</th>\n",
       "      <td>1750894224</td>\n",
       "      <td>0x0000000000000000000000000000000000000000</td>\n",
       "      <td>0x83db892a6688b966122be219fa873bf24d7db79f</td>\n",
       "      <td>10000000000000000000</td>\n",
       "      <td>0xb1414979063a26c67326912e08202b38a096e43456aa...</td>\n",
       "      <td>1249036</td>\n",
       "    </tr>\n",
       "    <tr>\n",
       "      <th>7801</th>\n",
       "      <td>1750853682</td>\n",
       "      <td>0x0000000000000000000000000000000000000000</td>\n",
       "      <td>0x6e80164ea60673d64d5d6228beb684a1274bb017</td>\n",
       "      <td>1000000000000000000</td>\n",
       "      <td>0xeadd15fb5deaf6f11e2bfd1a9421ae40de826f8a5e3e...</td>\n",
       "      <td>1238184</td>\n",
       "    </tr>\n",
       "    <tr>\n",
       "      <th>7802</th>\n",
       "      <td>1750852804</td>\n",
       "      <td>0x0000000000000000000000000000000000000000</td>\n",
       "      <td>0x6e80164ea60673d64d5d6228beb684a1274bb017</td>\n",
       "      <td>1000000000000000000</td>\n",
       "      <td>0x49e08d2de4d1afa5837841699f296f82ee34e8da7d56...</td>\n",
       "      <td>1237938</td>\n",
       "    </tr>\n",
       "  </tbody>\n",
       "</table>\n",
       "<p>7803 rows × 6 columns</p>\n",
       "</div>"
      ],
      "text/plain": [
       "      timestamp_                                        from  \\\n",
       "0     1756298984  0x0000000000000000000000000000000000000000   \n",
       "1     1756298408  0xcd4c4ac79098310d63537ecf519d36412077200c   \n",
       "2     1756298041  0x0000000000000000000000000000000000000000   \n",
       "3     1756295259  0x91ad95702fedc4b83843d3f3aaaa9f0ef68f71ff   \n",
       "4     1756295201  0xb2991c8dd07969d09856da81c6143d2d12c84e56   \n",
       "...          ...                                         ...   \n",
       "7798  1750924920  0x0000000000000000000000000000000000000000   \n",
       "7799  1750899066  0x0000000000000000000000000000000000000000   \n",
       "7800  1750894224  0x0000000000000000000000000000000000000000   \n",
       "7801  1750853682  0x0000000000000000000000000000000000000000   \n",
       "7802  1750852804  0x0000000000000000000000000000000000000000   \n",
       "\n",
       "                                              to                   value  \\\n",
       "0     0xe3884a72546f65944df71d7199c038270519511b       10000000000000000   \n",
       "1     0x0000000000000000000000000000000000000000  1068275890279924972659   \n",
       "2     0xb0e5453ed14b2e17e41d35e114f5c530bd604361   219000000000000000000   \n",
       "3     0x0000000000000000000000000000000000000000   571550118709272009661   \n",
       "4     0x0000000000000000000000000000000000000000    11850354755871040981   \n",
       "...                                          ...                     ...   \n",
       "7798  0x6e80164ea60673d64d5d6228beb684a1274bb017     1000000000000000000   \n",
       "7799  0x83db892a6688b966122be219fa873bf24d7db79f     5000000000000000000   \n",
       "7800  0x83db892a6688b966122be219fa873bf24d7db79f    10000000000000000000   \n",
       "7801  0x6e80164ea60673d64d5d6228beb684a1274bb017     1000000000000000000   \n",
       "7802  0x6e80164ea60673d64d5d6228beb684a1274bb017     1000000000000000000   \n",
       "\n",
       "                                       transactionHash_ block_number  \n",
       "0     0x4606b5c80e127598a3546c1a909df5022087f658347d...      2740482  \n",
       "1     0x16b0221286022113b3bd28e6c9c80c45195adc8db29b...      2740322  \n",
       "2     0x7dc48d37f8ce9f9819e1d9377df4630406b513293e7e...      2740220  \n",
       "3     0x33ac0f0c54ea241a7669c2fe2614badc1f5fb4305c92...      2739446  \n",
       "4     0xb9d7a997bc8f5aae1d18f87ee9009ce63e4e61fccddf...      2739430  \n",
       "...                                                 ...          ...  \n",
       "7798  0xf94447d87f136b744db7d595d441d468fca44162c337...      1257108  \n",
       "7799  0x6a633ddd97ece5fd9c72271c72745a20c75635f93932...      1250310  \n",
       "7800  0xb1414979063a26c67326912e08202b38a096e43456aa...      1249036  \n",
       "7801  0xeadd15fb5deaf6f11e2bfd1a9421ae40de826f8a5e3e...      1238184  \n",
       "7802  0x49e08d2de4d1afa5837841699f296f82ee34e8da7d56...      1237938  \n",
       "\n",
       "[7803 rows x 6 columns]"
      ]
     },
     "metadata": {},
     "output_type": "display_data"
    }
   ],
   "source": [
    "# Save vaults data df\n",
    "\n",
    "vaults_df = pd.DataFrame(vaults)\n",
    "display(vaults_df)"
   ]
  },
  {
   "cell_type": "code",
   "execution_count": 23,
   "metadata": {},
   "outputs": [
    {
     "data": {
      "text/plain": [
       "Index(['timestamp_', 'from', 'to', 'value', 'transactionHash_',\n",
       "       'block_number'],\n",
       "      dtype='object')"
      ]
     },
     "execution_count": 23,
     "metadata": {},
     "output_type": "execute_result"
    }
   ],
   "source": [
    "vaults_df.columns"
   ]
  },
  {
   "cell_type": "code",
   "execution_count": null,
   "metadata": {},
   "outputs": [],
   "source": [
    "# Exploration \n",
    "vaults_df = format_musd_currency_columns(vaults_df, ['value'])"
   ]
  },
  {
   "cell_type": "code",
   "execution_count": null,
   "metadata": {},
   "outputs": [],
   "source": [
    "vaults_df = format_datetimes(vaults_df, ['timestamp_'])"
   ]
  },
  {
   "cell_type": "code",
   "execution_count": null,
   "metadata": {},
   "outputs": [],
   "source": [
    "vaults_df['type'] = 'transfer'  # default value\n",
    "vaults_df.loc[vaults_df['from'] == '0x0000000000000000000000000000000000000000', 'type'] = 'deposit' \n",
    "vaults_df.loc[vaults_df['to'] == '0x0000000000000000000000000000000000000000', 'type'] = 'withdrawal'\n",
    "\n",
    "# Display the result\n",
    "display(vaults_df[['from', 'to', 'type']].head(10))\n",
    "print(f\"\\nType distribution:\")\n",
    "print(vaults_df['type'].value_counts())"
   ]
  },
  {
   "cell_type": "code",
   "execution_count": null,
   "metadata": {},
   "outputs": [],
   "source": [
    "deposits = vaults_df.loc[vaults_df['from'] == '0x0000000000000000000000000000000000000000']\n",
    "withdrawals = vaults_df.loc[vaults_df['to'] == '0x0000000000000000000000000000000000000000']"
   ]
  },
  {
   "cell_type": "code",
   "execution_count": null,
   "metadata": {},
   "outputs": [],
   "source": [
    "total_deposit_amt = sum(deposits['value'])\n",
    "total_withdrawal_amt = sum(withdrawals['value'])\n",
    "tvl = total_deposit_amt - total_withdrawal_amt"
   ]
  },
  {
   "cell_type": "code",
   "execution_count": null,
   "metadata": {},
   "outputs": [],
   "source": [
    "total_depositors = deposits['to'].nunique()\n",
    "total_deposits = deposits['to'].count()"
   ]
  },
  {
   "cell_type": "code",
   "execution_count": null,
   "metadata": {},
   "outputs": [],
   "source": [
    "total_withdrawers = withdrawals['from'].nunique()\n",
    "total_withdrawals = withdrawals['from'].count()"
   ]
  },
  {
   "cell_type": "code",
   "execution_count": null,
   "metadata": {},
   "outputs": [],
   "source": [
    "daily_vault_txns = vaults_df.groupby(['timestamp_']).agg(\n",
    "    value = ('value', 'sum'),\n",
    "    transactions = ('count', 'sum'),\n",
    "    users = ('to', lambda x: x.nunique())\n",
    ").reset_index().sort_values(by='timestamp_', ascending=False)"
   ]
  },
  {
   "cell_type": "code",
   "execution_count": null,
   "metadata": {},
   "outputs": [],
   "source": [
    "daily_vault_txns"
   ]
  },
  {
   "cell_type": "code",
   "execution_count": null,
   "metadata": {},
   "outputs": [],
   "source": [
    "import requests\n",
    "\n",
    "vault_contract = \"0x221B2D9aD7B994861Af3f4c8A80c86C4aa86Bf53\"\n",
    "url = f\"https://api.explorer.mezo.org/api/v2/addresses/{vault_contract}/transactions\"\n",
    "transaction_fees = {}\n",
    "\n",
    "\n",
    "# Create list to store all transaction data\n",
    "transactions_list = []\n",
    "next_page_params = None\n",
    "page_count = 0\n",
    "method = 'deposit'\n",
    "\n",
    "while True:\n",
    "        page_count += 1\n",
    "        print(f\"Fetching page {page_count}...\")\n",
    "\n",
    "        # Build URL with pagination parameters\n",
    "        if next_page_params:\n",
    "                response = requests.get(url, params=next_page_params)\n",
    "        else:\n",
    "                response = requests.get(url)\n",
    "\n",
    "        if response.status_code != 200:\n",
    "                print(f\"Error: {response.status_code} - {response.text}\")\n",
    "                break\n",
    "                \n",
    "        data = response.json()\n",
    "        transactions = data.get(\"items\", [])\n",
    "\n",
    "        if not transactions:\n",
    "                print(\"No more transactions found.\")\n",
    "                break\n",
    "\n",
    "        print(f\"Found {len(transactions)} transactions on page {page_count}\")\n",
    "\n",
    "        for tx in data.get(\"items\", []):\n",
    "                tx_data = {\n",
    "                        'timestamp_': tx.get('timestamp'),\n",
    "                        'method': tx.get('method'),\n",
    "                        'fee_value': int(tx.get('fee', {}).get('value', 0)) if tx.get('fee') else 0,\n",
    "                        'has_error': tx.get('has_error_in_internal_txs', False),\n",
    "                        'from_address': tx.get('from', {}).get('hash') if tx.get('from') else None,\n",
    "                        'to_address': tx.get('to', {}).get('hash') if tx.get('to') else None,\n",
    "                        'transactionHash_': tx.get('hash'),\n",
    "                        'block_number': tx.get('block'),\n",
    "                }\n",
    "\n",
    "        # Extract decoded input parameters if available\n",
    "              # Extract only the first decoded parameter (i=0)\n",
    "                if tx.get('decoded_input') and tx.get('decoded_input').get('parameters'):\n",
    "                        parameters = tx.get('decoded_input').get('parameters')\n",
    "                        if len(parameters) > 0:\n",
    "                                first_param = parameters[0]\n",
    "                                tx_data['param_0_name'] = first_param.get('name')\n",
    "                                tx_data['param_0_value'] = str(first_param.get('value'))\n",
    "                \n",
    "                transactions_list.append(tx_data)\n",
    "          \n",
    "          # Check for next page\n",
    "        next_page_params = data.get(\"next_page_params\")\n",
    "        if not next_page_params:\n",
    "               print(\"Reached last page.\")\n",
    "               break\n",
    "\n",
    "# Create DataFrame\n",
    "transactions_df = pd.DataFrame(transactions_list)\n",
    "\n",
    "# Display the DataFrame\n",
    "print(f\"Created DataFrame with {len(transactions_df)} transactions\")\n",
    "print(f\"Columns: {list(transactions_df.columns)}\")\n",
    "print(f\"Methods found: {transactions_df['method'].value_counts()}\")\n",
    "\n",
    "# Display summary\n",
    "print(f\"\\n✅ Created DataFrame with {len(transactions_df)} total transactions\")\n",
    "print(f\"📊 Columns: {list(transactions_df.columns)}\")\n",
    "print(f\"🔧 Methods found: {transactions_df['method'].value_counts()}\")\n",
    "print(f\"📅 Date range: {transactions_df['timestamp_'].min()} to {transactions_df['timestamp_'].max()}\")\n",
    "\n",
    "# Show sample data\n",
    "print(f\"\\n🔍 First 5 transactions:\")\n",
    "print(transactions_df.head())\n",
    "\n",
    "# Show transaction fees by method\n",
    "print(f\"\\n💰 Average fees by method:\")\n",
    "fee_by_method = transactions_df.groupby('method')['fee_value'].agg(['count', 'mean','sum']).round(0)\n",
    "print(fee_by_method)"
   ]
  },
  {
   "cell_type": "code",
   "execution_count": 17,
   "metadata": {},
   "outputs": [
    {
     "data": {
      "text/plain": [
       "1310238.0359813285"
      ]
     },
     "execution_count": 17,
     "metadata": {},
     "output_type": "execute_result"
    }
   ],
   "source": [
    "api_url = f'https://api.explorer.mezo.org/api/v2/addresses/{vault_contract}'\n",
    "response = requests.get(api_url)\n",
    "data = response.json()\n",
    "\n",
    "upMUSD_supply = data.get(\"token\").get('total_supply')\n",
    "upMUSD_supply =  int(upMUSD_supply) / 1e18\n",
    "upMUSD_supply"
   ]
  }
 ],
 "metadata": {
  "kernelspec": {
   "display_name": "venv",
   "language": "python",
   "name": "python3"
  },
  "language_info": {
   "codemirror_mode": {
    "name": "ipython",
    "version": 3
   },
   "file_extension": ".py",
   "mimetype": "text/x-python",
   "name": "python",
   "nbconvert_exporter": "python",
   "pygments_lexer": "ipython3",
   "version": "3.13.5"
  }
 },
 "nbformat": 4,
 "nbformat_minor": 2
}
